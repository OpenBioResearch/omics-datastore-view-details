{
 "cells": [
  {
   "cell_type": "code",
   "execution_count": null,
   "metadata": {},
   "outputs": [],
   "source": [
    "\"\"\"\n",
    "This Jupyter Notebook provides visualizations of the AWS HealthOmics data stores.  It will generate charts showing the distribution of data stores across regions, types, and trends over time.\n",
    "\"\"\"\n",
    "\n",
    "import pandas as pd\n",
    "import matplotlib.pyplot as plt\n",
    "import seaborn as sns\n",
    "import boto3\n",
    "\n",
    "\n",
    "sns.set(style=\"whitegrid\")\n"
   ]
  },
  {
   "cell_type": "code",
   "execution_count": null,
   "metadata": {},
   "outputs": [],
   "source": [
    "import botocore.exceptions  # Import botocore exceptions\n",
    "\n",
    "def get_omics_regions():\n",
    "    # Create a boto3 session to interact with AWS\n",
    "    session = boto3.session.Session()\n",
    "    omics_regions = session.get_available_regions(\"omics\")\n",
    "    return omics_regions\n",
    "\n",
    "omics_regions = get_omics_regions()\n",
    "print(\"Available Omics regions:\", omics_regions)\n"
   ]
  },
  {
   "cell_type": "code",
   "execution_count": null,
   "metadata": {},
   "outputs": [],
   "source": [
    "def get_stores(client, store_type, region):\n",
    "    try:\n",
    "        if store_type == \"sequence\":\n",
    "            response = client.list_sequence_stores()\n",
    "            key = \"sequenceStores\"\n",
    "        elif store_type == \"annotation\":\n",
    "            response = client.list_annotation_stores()\n",
    "            key = \"annotationStores\"\n",
    "        elif store_type == \"variant\":\n",
    "            response = client.list_variant_stores()\n",
    "            key = \"variantStores\"\n",
    "        else:\n",
    "            raise ValueError(f\"Invalid store type: {store_type}\")\n",
    "\n",
    "        if key in response:\n",
    "            stores = response[key]\n",
    "            for store in stores:\n",
    "                store[\"type\"] = store_type\n",
    "                store[\"region\"] = region  # Add region manually to each store\n",
    "                store.pop('arn', None)  # Remove the ARN if present\n",
    "            return stores\n",
    "        else:\n",
    "            return []  \n",
    "    except botocore.exceptions.ClientError as error:\n",
    "        error_code = error.response['Error']['Code']\n",
    "        if error_code == 'UnrecognizedClientException':\n",
    "            print(f\"ERROR: UnrecognizedClientException for {store_type} stores in {client.meta.region_name}. This region may not support HealthOmics.\")\n",
    "        else:\n",
    "            print(f\"ERROR: Unexpected error retrieving {store_type} stores in {client.meta.region_name}: {error}\")\n",
    "        return []  \n",
    "\n",
    "all_stores = []\n",
    "\n",
    "for region in omics_regions:\n",
    "    client = boto3.client(\"omics\", region_name=region)\n",
    "\n",
    "    sequence_stores = get_stores(client, \"sequence\", region)\n",
    "    annotation_stores = get_stores(client, \"annotation\", region)\n",
    "    variant_stores = get_stores(client, \"variant\", region)\n",
    "\n",
    "    region_stores = sequence_stores + annotation_stores + variant_stores\n",
    "    all_stores.extend(region_stores)\n",
    "\n",
    "stores_df = pd.DataFrame(all_stores)\n",
    "\n",
    "stores_df_filtered = stores_df[['type', 'name', 'region']]\n",
    "stores_df_filtered.head()\n"
   ]
  },
  {
   "cell_type": "code",
   "execution_count": null,
   "metadata": {},
   "outputs": [],
   "source": [
    "region_type_distribution = stores_df_filtered.groupby(['region', 'type']).size().unstack().fillna(0)\n",
    "\n",
    "plt.figure(figsize=(12, 6))\n",
    "region_type_distribution.plot(kind='bar', stacked=True)\n",
    "plt.title('Distribution of Omics Data Stores by Region')\n",
    "plt.xlabel('Region')\n",
    "plt.ylabel('Number of Stores')\n",
    "plt.xticks(rotation=45)\n",
    "plt.legend(title='Store Type')\n",
    "plt.show()\n"
   ]
  },
  {
   "cell_type": "code",
   "execution_count": null,
   "metadata": {},
   "outputs": [],
   "source": [
    "print(\"Available columns in the data:\")\n",
    "print(stores_df.columns)\n",
    "stores_df.head()\n"
   ]
  },
  {
   "cell_type": "code",
   "execution_count": null,
   "metadata": {},
   "outputs": [],
   "source": [
    "# Time-Based Trend Analysis: Number of Data Stores Created Over Time\n",
    "\n",
    "stores_df['creationTime'] = pd.to_datetime(stores_df['creationTime'])\n",
    "stores_df['updateTime'] = pd.to_datetime(stores_df['updateTime'])\n",
    "\n",
    "creation_trend = stores_df.groupby(stores_df['creationTime'].dt.date).size()\n",
    "\n",
    "plt.figure(figsize=(10, 6))\n",
    "creation_trend.plot(kind='line', marker='o')\n",
    "plt.title('Trend of Data Store Creation Over Time')\n",
    "plt.xlabel('Creation Date')\n",
    "plt.ylabel('Number of Stores Created')\n",
    "plt.xticks(rotation=45)\n",
    "plt.grid(True)\n",
    "plt.show()\n"
   ]
  },
  {
   "cell_type": "code",
   "execution_count": null,
   "metadata": {},
   "outputs": [],
   "source": [
    "stores_df['storeSizeGB'] = stores_df['storeSizeBytes'] / (1024**3)\n",
    "\n",
    "plt.figure(figsize=(10, 6))\n",
    "plt.hist(stores_df['storeSizeGB'], bins=20, color='skyblue', edgecolor='black')\n",
    "plt.title('Distribution of Data Store Sizes (in GB)')\n",
    "plt.xlabel('Store Size (GB)')\n",
    "plt.ylabel('Number of Stores')\n",
    "plt.grid(True)\n",
    "plt.show()\n"
   ]
  }
 ],
 "metadata": {
  "kernelspec": {
   "display_name": ".venv",
   "language": "python",
   "name": "python3"
  },
  "language_info": {
   "codemirror_mode": {
    "name": "ipython",
    "version": 3
   },
   "file_extension": ".py",
   "mimetype": "text/x-python",
   "name": "python",
   "nbconvert_exporter": "python",
   "pygments_lexer": "ipython3",
   "version": "3.12.4"
  }
 },
 "nbformat": 4,
 "nbformat_minor": 2
}
